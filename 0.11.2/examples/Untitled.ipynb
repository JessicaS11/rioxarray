{
 "cells": [
  {
   "cell_type": "code",
   "execution_count": 1,
   "id": "655c7ed0-7a85-4b24-807f-0885a6b4eeeb",
   "metadata": {},
   "outputs": [],
   "source": [
    "import xarray\n",
    "import rioxarray"
   ]
  },
  {
   "cell_type": "code",
   "execution_count": 2,
   "id": "8ac767b9-c65f-4481-a39c-8fc2ce327357",
   "metadata": {},
   "outputs": [
    {
     "data": {
      "text/plain": [
       "(-0.5, -0.5, 4.5, 4.5)"
      ]
     },
     "execution_count": 2,
     "metadata": {},
     "output_type": "execute_result"
    }
   ],
   "source": [
    "ds = xarray.Dataset(None, {\"x\": range(5), \"y\": range(5)})\n",
    "ds.rio.bounds()"
   ]
  }
 ],
 "metadata": {
  "kernelspec": {
   "display_name": "Python 3 (ipykernel)",
   "language": "python",
   "name": "python3"
  },
  "language_info": {
   "codemirror_mode": {
    "name": "ipython",
    "version": 3
   },
   "file_extension": ".py",
   "mimetype": "text/x-python",
   "name": "python",
   "nbconvert_exporter": "python",
   "pygments_lexer": "ipython3",
   "version": "3.10.5"
  }
 },
 "nbformat": 4,
 "nbformat_minor": 5
}
